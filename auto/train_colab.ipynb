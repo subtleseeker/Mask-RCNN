{
  "nbformat": 4,
  "nbformat_minor": 0,
  "metadata": {
    "colab": {
      "name": "Mask_R-CNN.ipynb",
      "provenance": [],
      "collapsed_sections": []
    },
    "kernelspec": {
      "name": "python3",
      "display_name": "Python 3"
    },
    "accelerator": "GPU"
  },
  "cells": [
    {
      "cell_type": "markdown",
      "metadata": {
        "id": "rIJcPwCF9tNT",
        "colab_type": "text"
      },
      "source": [
        "# Training Mask R-CNN\n",
        "**Protip**: Activate GPU by `Menu > Runtime > Change runtime type` and selecting `GPU` from `Hardware accelerator` dropdown."
      ]
    },
    {
      "cell_type": "markdown",
      "metadata": {
        "id": "OwDwdmKI65WT",
        "colab_type": "text"
      },
      "source": [
        "## Clone repository from github"
      ]
    },
    {
      "cell_type": "code",
      "metadata": {
        "id": "xah6lNgACW-N",
        "colab_type": "code",
        "colab": {}
      },
      "source": [
        "# import getpass\n",
        "# password = getpass.getpass()\n",
        "# password = \":\" + password\n",
        "password = \"\""
      ],
      "execution_count": 0,
      "outputs": []
    },
    {
      "cell_type": "code",
      "metadata": {
        "id": "aez9bS3Nsm6K",
        "colab_type": "code",
        "outputId": "4a63d4ff-179e-408d-9be5-ff555ab4285e",
        "colab": {
          "base_uri": "https://localhost:8080/",
          "height": 168
        }
      },
      "source": [
        "%cd /content\n",
        "!rm -rf Mask-RCNN\n",
        "repo = \"https://subtleseeker\" + password + \"@github.com/subtleseeker/Mask-RCNN\"\n",
        "!git clone $repo"
      ],
      "execution_count": 0,
      "outputs": [
        {
          "output_type": "stream",
          "text": [
            "/content\n",
            "Cloning into 'Mask-RCNN'...\n",
            "remote: Enumerating objects: 103, done.\u001b[K\n",
            "remote: Counting objects: 100% (103/103), done.\u001b[K\n",
            "remote: Compressing objects: 100% (77/77), done.\u001b[K\n",
            "remote: Total 201 (delta 52), reused 70 (delta 25), pack-reused 98\u001b[K\n",
            "Receiving objects: 100% (201/201), 104.83 MiB | 36.91 MiB/s, done.\n",
            "Resolving deltas: 100% (55/55), done.\n",
            "Checking out files: 100% (110/110), done.\n"
          ],
          "name": "stdout"
        }
      ]
    },
    {
      "cell_type": "markdown",
      "metadata": {
        "id": "Rx-Jccdk6_WY",
        "colab_type": "text"
      },
      "source": [
        "## Mount your google drive\n",
        "- Mounting will require authorization code. Follow the link after executing the cell below. \n",
        "- Login with your google account.\n",
        "- Approve for the required permissions.\n",
        "- Copy the generated code and paste it in the cell input below.\n",
        "Congrats! You have mounted your google drive.\n",
        "\n",
        "You can view the files of the mounted drive, by using the `>` arrow on top-left part of your screen just below `+ Code` button, and then clicking `Files` tab.   \n",
        "\n",
        "**Note**: You will have to do this for every instance on google colab, as the instance alloted to you is temporary."
      ]
    },
    {
      "cell_type": "code",
      "metadata": {
        "id": "3J070rjbtL1E",
        "colab_type": "code",
        "outputId": "1d2271d9-5766-42c2-b232-ed9c360c2ea4",
        "colab": {
          "base_uri": "https://localhost:8080/",
          "height": 121
        }
      },
      "source": [
        "from google.colab import drive\n",
        "drive.mount('/content/drive')"
      ],
      "execution_count": 0,
      "outputs": [
        {
          "output_type": "stream",
          "text": [
            "Go to this URL in a browser: https://accounts.google.com/o/oauth2/auth?client_id=947318989803-6bn6qk8qdgf4n4g3pfee6491hc0brc4i.apps.googleusercontent.com&redirect_uri=urn%3aietf%3awg%3aoauth%3a2.0%3aoob&response_type=code&scope=email%20https%3a%2f%2fwww.googleapis.com%2fauth%2fdocs.test%20https%3a%2f%2fwww.googleapis.com%2fauth%2fdrive%20https%3a%2f%2fwww.googleapis.com%2fauth%2fdrive.photos.readonly%20https%3a%2f%2fwww.googleapis.com%2fauth%2fpeopleapi.readonly\n",
            "\n",
            "Enter your authorization code:\n",
            "··········\n",
            "Mounted at /content/drive\n"
          ],
          "name": "stdout"
        }
      ]
    },
    {
      "cell_type": "markdown",
      "metadata": {
        "id": "SZ120mr97Hmv",
        "colab_type": "text"
      },
      "source": [
        "## Downloading necessary files\n",
        "Copy the required files from your google drive.\n",
        "\n",
        "**These files should be present in the following directory in your Google Drive:\n",
        "`DRIVE_ROOT/SLAM/`.**  \n",
        "    \n",
        "    \n",
        "\n",
        "**Required files**\n",
        "- `mask_rcnn_coco.h5`: COCO Dataset pretrained weights. Download `mask_rcnn_coco.h5` from [this](https://github.com/matterport/Mask_RCNN/releases/download/v2.0/mask_rcnn_coco.h5) link. If this link fails, open [this](https://github.com/matterport/Mask_RCNN/releases) link and download the file under `v2.0` tag.\n",
        "- `dataset.tar.gz`: Dataset containing images and their masks in the required directory structure as mentioned in README.md in the github link above\n",
        "\n"
      ]
    },
    {
      "cell_type": "code",
      "metadata": {
        "id": "G45FCfO7uHXs",
        "colab_type": "code",
        "colab": {}
      },
      "source": [
        "!cp /content/drive/My\\ Drive/SLAM/mask_rcnn_coco.h5 /content/Mask-RCNN"
      ],
      "execution_count": 0,
      "outputs": []
    },
    {
      "cell_type": "code",
      "metadata": {
        "id": "M9EFGWjCtMsI",
        "colab_type": "code",
        "outputId": "a678e8fc-b682-4b76-83ac-77bb4e12ee9a",
        "colab": {
          "base_uri": "https://localhost:8080/",
          "height": 50
        }
      },
      "source": [
        "!tar -zxf /content/drive/My\\ Drive/SLAM/dataset.tar.gz -C /content/Mask-RCNN/samples/auto/"
      ],
      "execution_count": 0,
      "outputs": [
        {
          "output_type": "stream",
          "text": [
            "tar: Ignoring unknown extended header keyword 'SCHILY.fflags'\n",
            "tar: Ignoring unknown extended header keyword 'SCHILY.fflags'\n"
          ],
          "name": "stdout"
        }
      ]
    },
    {
      "cell_type": "code",
      "metadata": {
        "id": "POv-03EUwCYe",
        "colab_type": "code",
        "outputId": "8b26288b-41f9-4bf6-b627-24338cda1575",
        "colab": {
          "base_uri": "https://localhost:8080/",
          "height": 34
        }
      },
      "source": [
        "%cd /content/Mask-RCNN/samples/auto"
      ],
      "execution_count": 0,
      "outputs": [
        {
          "output_type": "stream",
          "text": [
            "/content/Mask-RCNN/samples/auto\n"
          ],
          "name": "stdout"
        }
      ]
    },
    {
      "cell_type": "markdown",
      "metadata": {
        "id": "7Y08OFk5-t0t",
        "colab_type": "text"
      },
      "source": [
        "## Training\n",
        "Execute the command to begin training   \n",
        "`!python3 auto.py train --dataset=<path to dataset root>/images --weights=coco`"
      ]
    },
    {
      "cell_type": "code",
      "metadata": {
        "id": "Vw4AaKufw9zg",
        "colab_type": "code",
        "outputId": "629df2e6-7d87-41b6-a3ad-711b042ceb54",
        "colab": {
          "base_uri": "https://localhost:8080/",
          "height": 1000
        }
      },
      "source": [
        "!python3 auto.py train --dataset=./dataset/images --weights=coco"
      ],
      "execution_count": 0,
      "outputs": [
        {
          "output_type": "stream",
          "text": [
            "Using TensorFlow backend.\n",
            "Weights:  coco\n",
            "Dataset:  ./dataset/images\n",
            "Logs:  /content/Mask-RCNN/logs\n",
            "\n",
            "Configurations:\n",
            "BACKBONE                       resnet101\n",
            "BACKBONE_STRIDES               [4, 8, 16, 32, 64]\n",
            "BATCH_SIZE                     2\n",
            "BBOX_STD_DEV                   [0.1 0.1 0.2 0.2]\n",
            "COMPUTE_BACKBONE_SHAPE         None\n",
            "DETECTION_MAX_INSTANCES        100\n",
            "DETECTION_MIN_CONFIDENCE       0.9\n",
            "DETECTION_NMS_THRESHOLD        0.3\n",
            "FPN_CLASSIF_FC_LAYERS_SIZE     1024\n",
            "GPU_COUNT                      1\n",
            "GRADIENT_CLIP_NORM             5.0\n",
            "IMAGES_PER_GPU                 2\n",
            "IMAGE_CHANNEL_COUNT            3\n",
            "IMAGE_MAX_DIM                  1024\n",
            "IMAGE_META_SIZE                18\n",
            "IMAGE_MIN_DIM                  800\n",
            "IMAGE_MIN_SCALE                0\n",
            "IMAGE_RESIZE_MODE              square\n",
            "IMAGE_SHAPE                    [1024 1024    3]\n",
            "LEARNING_MOMENTUM              0.9\n",
            "LEARNING_RATE                  0.001\n",
            "LOSS_WEIGHTS                   {'rpn_class_loss': 1.0, 'rpn_bbox_loss': 1.0, 'mrcnn_class_loss': 1.0, 'mrcnn_bbox_loss': 1.0, 'mrcnn_mask_loss': 1.0}\n",
            "MASK_POOL_SIZE                 14\n",
            "MASK_SHAPE                     [28, 28]\n",
            "MAX_GT_INSTANCES               100\n",
            "MEAN_PIXEL                     [123.7 116.8 103.9]\n",
            "MINI_MASK_SHAPE                (56, 56)\n",
            "NAME                           balloon\n",
            "NUM_CLASSES                    6\n",
            "POOL_SIZE                      7\n",
            "POST_NMS_ROIS_INFERENCE        1000\n",
            "POST_NMS_ROIS_TRAINING         2000\n",
            "PRE_NMS_LIMIT                  6000\n",
            "ROI_POSITIVE_RATIO             0.33\n",
            "RPN_ANCHOR_RATIOS              [0.5, 1, 2]\n",
            "RPN_ANCHOR_SCALES              (32, 64, 128, 256, 512)\n",
            "RPN_ANCHOR_STRIDE              1\n",
            "RPN_BBOX_STD_DEV               [0.1 0.1 0.2 0.2]\n",
            "RPN_NMS_THRESHOLD              0.7\n",
            "RPN_TRAIN_ANCHORS_PER_IMAGE    256\n",
            "STEPS_PER_EPOCH                100\n",
            "TOP_DOWN_PYRAMID_SIZE          256\n",
            "TRAIN_BN                       False\n",
            "TRAIN_ROIS_PER_IMAGE           200\n",
            "USE_MINI_MASK                  True\n",
            "USE_RPN_ROIS                   True\n",
            "VALIDATION_STEPS               50\n",
            "WEIGHT_DECAY                   0.0001\n",
            "\n",
            "\n",
            "WARNING:tensorflow:From /usr/local/lib/python3.6/dist-packages/keras/backend/tensorflow_backend.py:541: The name tf.placeholder is deprecated. Please use tf.compat.v1.placeholder instead.\n",
            "\n",
            "WARNING:tensorflow:From /usr/local/lib/python3.6/dist-packages/keras/backend/tensorflow_backend.py:66: The name tf.get_default_graph is deprecated. Please use tf.compat.v1.get_default_graph instead.\n",
            "\n",
            "WARNING:tensorflow:From /usr/local/lib/python3.6/dist-packages/keras/backend/tensorflow_backend.py:4432: The name tf.random_uniform is deprecated. Please use tf.random.uniform instead.\n",
            "\n",
            "WARNING:tensorflow:From /usr/local/lib/python3.6/dist-packages/keras/backend/tensorflow_backend.py:2139: The name tf.nn.fused_batch_norm is deprecated. Please use tf.compat.v1.nn.fused_batch_norm instead.\n",
            "\n",
            "WARNING:tensorflow:From /usr/local/lib/python3.6/dist-packages/keras/backend/tensorflow_backend.py:4267: The name tf.nn.max_pool is deprecated. Please use tf.nn.max_pool2d instead.\n",
            "\n",
            "WARNING:tensorflow:From /usr/local/lib/python3.6/dist-packages/keras/backend/tensorflow_backend.py:2239: The name tf.image.resize_nearest_neighbor is deprecated. Please use tf.compat.v1.image.resize_nearest_neighbor instead.\n",
            "\n",
            "WARNING:tensorflow:From /usr/local/lib/python3.6/dist-packages/tensorflow_core/python/ops/array_ops.py:1475: where (from tensorflow.python.ops.array_ops) is deprecated and will be removed in a future version.\n",
            "Instructions for updating:\n",
            "Use tf.where in 2.0, which has the same broadcast rule as np.where\n",
            "WARNING:tensorflow:From /content/Mask-RCNN/mrcnn/model.py:553: The name tf.random_shuffle is deprecated. Please use tf.random.shuffle instead.\n",
            "\n",
            "WARNING:tensorflow:From /content/Mask-RCNN/mrcnn/utils.py:202: The name tf.log is deprecated. Please use tf.math.log instead.\n",
            "\n",
            "WARNING:tensorflow:From /content/Mask-RCNN/mrcnn/model.py:600: calling crop_and_resize_v1 (from tensorflow.python.ops.image_ops_impl) with box_ind is deprecated and will be removed in a future version.\n",
            "Instructions for updating:\n",
            "box_ind is deprecated, use box_indices instead\n",
            "Loading weights  /content/Mask-RCNN/mask_rcnn_coco.h5\n",
            "WARNING:tensorflow:From /usr/local/lib/python3.6/dist-packages/keras/backend/tensorflow_backend.py:190: The name tf.get_default_session is deprecated. Please use tf.compat.v1.get_default_session instead.\n",
            "\n",
            "WARNING:tensorflow:From /usr/local/lib/python3.6/dist-packages/keras/backend/tensorflow_backend.py:197: The name tf.ConfigProto is deprecated. Please use tf.compat.v1.ConfigProto instead.\n",
            "\n",
            "WARNING:tensorflow:From /usr/local/lib/python3.6/dist-packages/keras/backend/tensorflow_backend.py:203: The name tf.Session is deprecated. Please use tf.compat.v1.Session instead.\n",
            "\n",
            "2019-11-10 13:47:02.471577: I tensorflow/core/platform/profile_utils/cpu_utils.cc:94] CPU Frequency: 2200000000 Hz\n",
            "2019-11-10 13:47:02.471808: I tensorflow/compiler/xla/service/service.cc:168] XLA service 0x195c8bc0 initialized for platform Host (this does not guarantee that XLA will be used). Devices:\n",
            "2019-11-10 13:47:02.471841: I tensorflow/compiler/xla/service/service.cc:176]   StreamExecutor device (0): Host, Default Version\n",
            "2019-11-10 13:47:02.474041: I tensorflow/stream_executor/platform/default/dso_loader.cc:44] Successfully opened dynamic library libcuda.so.1\n",
            "2019-11-10 13:47:02.564683: I tensorflow/stream_executor/cuda/cuda_gpu_executor.cc:983] successful NUMA node read from SysFS had negative value (-1), but there must be at least one NUMA node, so returning NUMA node zero\n",
            "2019-11-10 13:47:02.565653: I tensorflow/compiler/xla/service/service.cc:168] XLA service 0x195c8d80 initialized for platform CUDA (this does not guarantee that XLA will be used). Devices:\n",
            "2019-11-10 13:47:02.565684: I tensorflow/compiler/xla/service/service.cc:176]   StreamExecutor device (0): Tesla P100-PCIE-16GB, Compute Capability 6.0\n",
            "2019-11-10 13:47:02.565855: I tensorflow/stream_executor/cuda/cuda_gpu_executor.cc:983] successful NUMA node read from SysFS had negative value (-1), but there must be at least one NUMA node, so returning NUMA node zero\n",
            "2019-11-10 13:47:02.566368: I tensorflow/core/common_runtime/gpu/gpu_device.cc:1618] Found device 0 with properties: \n",
            "name: Tesla P100-PCIE-16GB major: 6 minor: 0 memoryClockRate(GHz): 1.3285\n",
            "pciBusID: 0000:00:04.0\n",
            "2019-11-10 13:47:02.566658: I tensorflow/stream_executor/platform/default/dso_loader.cc:44] Successfully opened dynamic library libcudart.so.10.0\n",
            "2019-11-10 13:47:02.567921: I tensorflow/stream_executor/platform/default/dso_loader.cc:44] Successfully opened dynamic library libcublas.so.10.0\n",
            "2019-11-10 13:47:02.569042: I tensorflow/stream_executor/platform/default/dso_loader.cc:44] Successfully opened dynamic library libcufft.so.10.0\n",
            "2019-11-10 13:47:02.569404: I tensorflow/stream_executor/platform/default/dso_loader.cc:44] Successfully opened dynamic library libcurand.so.10.0\n",
            "2019-11-10 13:47:02.570923: I tensorflow/stream_executor/platform/default/dso_loader.cc:44] Successfully opened dynamic library libcusolver.so.10.0\n",
            "2019-11-10 13:47:02.572008: I tensorflow/stream_executor/platform/default/dso_loader.cc:44] Successfully opened dynamic library libcusparse.so.10.0\n",
            "2019-11-10 13:47:02.575338: I tensorflow/stream_executor/platform/default/dso_loader.cc:44] Successfully opened dynamic library libcudnn.so.7\n",
            "2019-11-10 13:47:02.575443: I tensorflow/stream_executor/cuda/cuda_gpu_executor.cc:983] successful NUMA node read from SysFS had negative value (-1), but there must be at least one NUMA node, so returning NUMA node zero\n",
            "2019-11-10 13:47:02.575966: I tensorflow/stream_executor/cuda/cuda_gpu_executor.cc:983] successful NUMA node read from SysFS had negative value (-1), but there must be at least one NUMA node, so returning NUMA node zero\n",
            "2019-11-10 13:47:02.576452: I tensorflow/core/common_runtime/gpu/gpu_device.cc:1746] Adding visible gpu devices: 0\n",
            "2019-11-10 13:47:02.576510: I tensorflow/stream_executor/platform/default/dso_loader.cc:44] Successfully opened dynamic library libcudart.so.10.0\n",
            "2019-11-10 13:47:02.577648: I tensorflow/core/common_runtime/gpu/gpu_device.cc:1159] Device interconnect StreamExecutor with strength 1 edge matrix:\n",
            "2019-11-10 13:47:02.577683: I tensorflow/core/common_runtime/gpu/gpu_device.cc:1165]      0 \n",
            "2019-11-10 13:47:02.577692: I tensorflow/core/common_runtime/gpu/gpu_device.cc:1178] 0:   N \n",
            "2019-11-10 13:47:02.577809: I tensorflow/stream_executor/cuda/cuda_gpu_executor.cc:983] successful NUMA node read from SysFS had negative value (-1), but there must be at least one NUMA node, so returning NUMA node zero\n",
            "2019-11-10 13:47:02.578337: I tensorflow/stream_executor/cuda/cuda_gpu_executor.cc:983] successful NUMA node read from SysFS had negative value (-1), but there must be at least one NUMA node, so returning NUMA node zero\n",
            "2019-11-10 13:47:02.578817: W tensorflow/core/common_runtime/gpu/gpu_bfc_allocator.cc:39] Overriding allow_growth setting because the TF_FORCE_GPU_ALLOW_GROWTH environment variable is set. Original config value was 0.\n",
            "2019-11-10 13:47:02.578858: I tensorflow/core/common_runtime/gpu/gpu_device.cc:1304] Created TensorFlow device (/job:localhost/replica:0/task:0/device:GPU:0 with 14974 MB memory) -> physical GPU (device: 0, name: Tesla P100-PCIE-16GB, pci bus id: 0000:00:04.0, compute capability: 6.0)\n",
            "WARNING:tensorflow:From /usr/local/lib/python3.6/dist-packages/keras/backend/tensorflow_backend.py:207: The name tf.global_variables is deprecated. Please use tf.compat.v1.global_variables instead.\n",
            "\n",
            "WARNING:tensorflow:From /usr/local/lib/python3.6/dist-packages/keras/backend/tensorflow_backend.py:216: The name tf.is_variable_initialized is deprecated. Please use tf.compat.v1.is_variable_initialized instead.\n",
            "\n",
            "WARNING:tensorflow:From /usr/local/lib/python3.6/dist-packages/keras/backend/tensorflow_backend.py:223: The name tf.variables_initializer is deprecated. Please use tf.compat.v1.variables_initializer instead.\n",
            "\n",
            "Training network heads\n",
            "\n",
            "Starting at epoch 0. LR=0.001\n",
            "\n",
            "Checkpoint Path: /content/Mask-RCNN/logs/balloon20191110T1347/mask_rcnn_balloon_{epoch:04d}.h5\n",
            "Selecting layers to train\n",
            "fpn_c5p5               (Conv2D)\n",
            "fpn_c4p4               (Conv2D)\n",
            "fpn_c3p3               (Conv2D)\n",
            "fpn_c2p2               (Conv2D)\n",
            "fpn_p5                 (Conv2D)\n",
            "fpn_p2                 (Conv2D)\n",
            "fpn_p3                 (Conv2D)\n",
            "fpn_p4                 (Conv2D)\n",
            "In model:  rpn_model\n",
            "    rpn_conv_shared        (Conv2D)\n",
            "    rpn_class_raw          (Conv2D)\n",
            "    rpn_bbox_pred          (Conv2D)\n",
            "mrcnn_mask_conv1       (TimeDistributed)\n",
            "mrcnn_mask_bn1         (TimeDistributed)\n",
            "mrcnn_mask_conv2       (TimeDistributed)\n",
            "mrcnn_mask_bn2         (TimeDistributed)\n",
            "mrcnn_class_conv1      (TimeDistributed)\n",
            "mrcnn_class_bn1        (TimeDistributed)\n",
            "mrcnn_mask_conv3       (TimeDistributed)\n",
            "mrcnn_mask_bn3         (TimeDistributed)\n",
            "mrcnn_class_conv2      (TimeDistributed)\n",
            "mrcnn_class_bn2        (TimeDistributed)\n",
            "mrcnn_mask_conv4       (TimeDistributed)\n",
            "mrcnn_mask_bn4         (TimeDistributed)\n",
            "mrcnn_bbox_fc          (TimeDistributed)\n",
            "mrcnn_mask_deconv      (TimeDistributed)\n",
            "mrcnn_class_logits     (TimeDistributed)\n",
            "mrcnn_mask             (TimeDistributed)\n",
            "WARNING:tensorflow:From /usr/local/lib/python3.6/dist-packages/keras/optimizers.py:793: The name tf.train.Optimizer is deprecated. Please use tf.compat.v1.train.Optimizer instead.\n",
            "\n",
            "/usr/local/lib/python3.6/dist-packages/tensorflow_core/python/framework/indexed_slices.py:424: UserWarning: Converting sparse IndexedSlices to a dense Tensor of unknown shape. This may consume a large amount of memory.\n",
            "  \"Converting sparse IndexedSlices to a dense Tensor of unknown shape. \"\n",
            "/usr/local/lib/python3.6/dist-packages/tensorflow_core/python/framework/indexed_slices.py:424: UserWarning: Converting sparse IndexedSlices to a dense Tensor of unknown shape. This may consume a large amount of memory.\n",
            "  \"Converting sparse IndexedSlices to a dense Tensor of unknown shape. \"\n",
            "/usr/local/lib/python3.6/dist-packages/tensorflow_core/python/framework/indexed_slices.py:424: UserWarning: Converting sparse IndexedSlices to a dense Tensor of unknown shape. This may consume a large amount of memory.\n",
            "  \"Converting sparse IndexedSlices to a dense Tensor of unknown shape. \"\n",
            "WARNING:tensorflow:From /usr/local/lib/python3.6/dist-packages/keras/backend/tensorflow_backend.py:1033: The name tf.assign_add is deprecated. Please use tf.compat.v1.assign_add instead.\n",
            "\n",
            "WARNING:tensorflow:From /usr/local/lib/python3.6/dist-packages/keras/backend/tensorflow_backend.py:1020: The name tf.assign is deprecated. Please use tf.compat.v1.assign instead.\n",
            "\n",
            "/usr/local/lib/python3.6/dist-packages/keras/engine/training_generator.py:49: UserWarning: Using a generator with `use_multiprocessing=True` and multiple workers may duplicate your data. Please consider using the `keras.utils.Sequence class.\n",
            "  UserWarning('Using a generator with `use_multiprocessing=True`'\n",
            "WARNING:tensorflow:From /usr/local/lib/python3.6/dist-packages/keras/callbacks.py:1122: The name tf.summary.merge_all is deprecated. Please use tf.compat.v1.summary.merge_all instead.\n",
            "\n",
            "WARNING:tensorflow:From /usr/local/lib/python3.6/dist-packages/keras/callbacks.py:1125: The name tf.summary.FileWriter is deprecated. Please use tf.compat.v1.summary.FileWriter instead.\n",
            "\n",
            "Epoch 1/30\n",
            "2019-11-10 13:47:45.534965: I tensorflow/stream_executor/platform/default/dso_loader.cc:44] Successfully opened dynamic library libcublas.so.10.0\n",
            "2019-11-10 13:47:47.279860: I tensorflow/stream_executor/platform/default/dso_loader.cc:44] Successfully opened dynamic library libcudnn.so.7\n",
            "100/100 [==============================] - 157s 2s/step - loss: 1.7407 - rpn_class_loss: 0.0604 - rpn_bbox_loss: 0.5501 - mrcnn_class_loss: 0.1905 - mrcnn_bbox_loss: 0.5363 - mrcnn_mask_loss: 0.4033 - val_loss: 1.4674 - val_rpn_class_loss: 0.0165 - val_rpn_bbox_loss: 0.6383 - val_mrcnn_class_loss: 0.0853 - val_mrcnn_bbox_loss: 0.4356 - val_mrcnn_mask_loss: 0.2917\n",
            "WARNING:tensorflow:From /usr/local/lib/python3.6/dist-packages/keras/callbacks.py:1265: The name tf.Summary is deprecated. Please use tf.compat.v1.Summary instead.\n",
            "\n",
            "Epoch 2/30\n",
            "100/100 [==============================] - 70s 701ms/step - loss: 1.1706 - rpn_class_loss: 0.0187 - rpn_bbox_loss: 0.4479 - mrcnn_class_loss: 0.0770 - mrcnn_bbox_loss: 0.3953 - mrcnn_mask_loss: 0.2316 - val_loss: 1.0296 - val_rpn_class_loss: 0.0166 - val_rpn_bbox_loss: 0.3858 - val_mrcnn_class_loss: 0.0578 - val_mrcnn_bbox_loss: 0.3419 - val_mrcnn_mask_loss: 0.2275\n",
            "Epoch 3/30\n",
            "100/100 [==============================] - 72s 719ms/step - loss: 1.0234 - rpn_class_loss: 0.0138 - rpn_bbox_loss: 0.3695 - mrcnn_class_loss: 0.0789 - mrcnn_bbox_loss: 0.3404 - mrcnn_mask_loss: 0.2207 - val_loss: 1.0625 - val_rpn_class_loss: 0.0128 - val_rpn_bbox_loss: 0.5117 - val_mrcnn_class_loss: 0.0438 - val_mrcnn_bbox_loss: 0.3030 - val_mrcnn_mask_loss: 0.1911\n",
            "Epoch 4/30\n",
            "100/100 [==============================] - 84s 836ms/step - loss: 0.9010 - rpn_class_loss: 0.0138 - rpn_bbox_loss: 0.4174 - mrcnn_class_loss: 0.0470 - mrcnn_bbox_loss: 0.2490 - mrcnn_mask_loss: 0.1737 - val_loss: 0.8689 - val_rpn_class_loss: 0.0091 - val_rpn_bbox_loss: 0.3467 - val_mrcnn_class_loss: 0.0496 - val_mrcnn_bbox_loss: 0.2827 - val_mrcnn_mask_loss: 0.1808\n",
            "Epoch 5/30\n",
            "100/100 [==============================] - 100s 997ms/step - loss: 0.8435 - rpn_class_loss: 0.0126 - rpn_bbox_loss: 0.3713 - mrcnn_class_loss: 0.0509 - mrcnn_bbox_loss: 0.2612 - mrcnn_mask_loss: 0.1475 - val_loss: 0.7658 - val_rpn_class_loss: 0.0088 - val_rpn_bbox_loss: 0.3305 - val_mrcnn_class_loss: 0.0455 - val_mrcnn_bbox_loss: 0.2290 - val_mrcnn_mask_loss: 0.1520\n",
            "Epoch 6/30\n",
            "100/100 [==============================] - 99s 991ms/step - loss: 0.7298 - rpn_class_loss: 0.0091 - rpn_bbox_loss: 0.2772 - mrcnn_class_loss: 0.0464 - mrcnn_bbox_loss: 0.2301 - mrcnn_mask_loss: 0.1669 - val_loss: 0.8162 - val_rpn_class_loss: 0.0102 - val_rpn_bbox_loss: 0.3623 - val_mrcnn_class_loss: 0.0534 - val_mrcnn_bbox_loss: 0.2316 - val_mrcnn_mask_loss: 0.1587\n",
            "Epoch 7/30\n",
            "100/100 [==============================] - 99s 986ms/step - loss: 0.6004 - rpn_class_loss: 0.0062 - rpn_bbox_loss: 0.2358 - mrcnn_class_loss: 0.0305 - mrcnn_bbox_loss: 0.1846 - mrcnn_mask_loss: 0.1432 - val_loss: 0.7151 - val_rpn_class_loss: 0.0050 - val_rpn_bbox_loss: 0.2974 - val_mrcnn_class_loss: 0.0415 - val_mrcnn_bbox_loss: 0.2193 - val_mrcnn_mask_loss: 0.1518\n",
            "Epoch 8/30\n",
            "100/100 [==============================] - 99s 987ms/step - loss: 0.6445 - rpn_class_loss: 0.0077 - rpn_bbox_loss: 0.2387 - mrcnn_class_loss: 0.0518 - mrcnn_bbox_loss: 0.1964 - mrcnn_mask_loss: 0.1500 - val_loss: 0.6716 - val_rpn_class_loss: 0.0083 - val_rpn_bbox_loss: 0.2795 - val_mrcnn_class_loss: 0.0474 - val_mrcnn_bbox_loss: 0.1833 - val_mrcnn_mask_loss: 0.1531\n",
            "Epoch 9/30\n",
            "100/100 [==============================] - 99s 988ms/step - loss: 0.6351 - rpn_class_loss: 0.0123 - rpn_bbox_loss: 0.3029 - mrcnn_class_loss: 0.0343 - mrcnn_bbox_loss: 0.1553 - mrcnn_mask_loss: 0.1303 - val_loss: 0.6170 - val_rpn_class_loss: 0.0077 - val_rpn_bbox_loss: 0.2612 - val_mrcnn_class_loss: 0.0383 - val_mrcnn_bbox_loss: 0.1663 - val_mrcnn_mask_loss: 0.1436\n",
            "Epoch 10/30\n",
            "100/100 [==============================] - 98s 982ms/step - loss: 0.4464 - rpn_class_loss: 0.0064 - rpn_bbox_loss: 0.1878 - mrcnn_class_loss: 0.0248 - mrcnn_bbox_loss: 0.1067 - mrcnn_mask_loss: 0.1207 - val_loss: 0.5572 - val_rpn_class_loss: 0.0056 - val_rpn_bbox_loss: 0.2449 - val_mrcnn_class_loss: 0.0275 - val_mrcnn_bbox_loss: 0.1527 - val_mrcnn_mask_loss: 0.1265\n",
            "Epoch 11/30\n",
            "100/100 [==============================] - 98s 984ms/step - loss: 0.4198 - rpn_class_loss: 0.0053 - rpn_bbox_loss: 0.1704 - mrcnn_class_loss: 0.0259 - mrcnn_bbox_loss: 0.0984 - mrcnn_mask_loss: 0.1198 - val_loss: 0.4880 - val_rpn_class_loss: 0.0056 - val_rpn_bbox_loss: 0.1893 - val_mrcnn_class_loss: 0.0333 - val_mrcnn_bbox_loss: 0.1271 - val_mrcnn_mask_loss: 0.1326\n",
            "Epoch 12/30\n",
            "100/100 [==============================] - 99s 993ms/step - loss: 0.5282 - rpn_class_loss: 0.0062 - rpn_bbox_loss: 0.2165 - mrcnn_class_loss: 0.0355 - mrcnn_bbox_loss: 0.1254 - mrcnn_mask_loss: 0.1446 - val_loss: 0.5503 - val_rpn_class_loss: 0.0062 - val_rpn_bbox_loss: 0.1804 - val_mrcnn_class_loss: 0.0442 - val_mrcnn_bbox_loss: 0.1777 - val_mrcnn_mask_loss: 0.1417\n",
            "Epoch 13/30\n",
            "100/100 [==============================] - 98s 984ms/step - loss: 0.5126 - rpn_class_loss: 0.0065 - rpn_bbox_loss: 0.2196 - mrcnn_class_loss: 0.0289 - mrcnn_bbox_loss: 0.1375 - mrcnn_mask_loss: 0.1202 - val_loss: 0.5304 - val_rpn_class_loss: 0.0068 - val_rpn_bbox_loss: 0.2213 - val_mrcnn_class_loss: 0.0335 - val_mrcnn_bbox_loss: 0.1335 - val_mrcnn_mask_loss: 0.1353\n",
            "Epoch 14/30\n",
            "100/100 [==============================] - 99s 989ms/step - loss: 0.5050 - rpn_class_loss: 0.0070 - rpn_bbox_loss: 0.2099 - mrcnn_class_loss: 0.0318 - mrcnn_bbox_loss: 0.1274 - mrcnn_mask_loss: 0.1290 - val_loss: 0.5820 - val_rpn_class_loss: 0.0059 - val_rpn_bbox_loss: 0.2473 - val_mrcnn_class_loss: 0.0373 - val_mrcnn_bbox_loss: 0.1547 - val_mrcnn_mask_loss: 0.1368\n",
            "Epoch 15/30\n",
            "100/100 [==============================] - 100s 999ms/step - loss: 0.5017 - rpn_class_loss: 0.0069 - rpn_bbox_loss: 0.2051 - mrcnn_class_loss: 0.0306 - mrcnn_bbox_loss: 0.1364 - mrcnn_mask_loss: 0.1227 - val_loss: 0.5039 - val_rpn_class_loss: 0.0069 - val_rpn_bbox_loss: 0.2227 - val_mrcnn_class_loss: 0.0234 - val_mrcnn_bbox_loss: 0.1318 - val_mrcnn_mask_loss: 0.1191\n",
            "Epoch 16/30\n",
            "100/100 [==============================] - 98s 982ms/step - loss: 0.3955 - rpn_class_loss: 0.0047 - rpn_bbox_loss: 0.1665 - mrcnn_class_loss: 0.0224 - mrcnn_bbox_loss: 0.0870 - mrcnn_mask_loss: 0.1147 - val_loss: 0.4550 - val_rpn_class_loss: 0.0047 - val_rpn_bbox_loss: 0.1968 - val_mrcnn_class_loss: 0.0217 - val_mrcnn_bbox_loss: 0.1076 - val_mrcnn_mask_loss: 0.1241\n",
            "Epoch 17/30\n",
            "100/100 [==============================] - 99s 986ms/step - loss: 0.3336 - rpn_class_loss: 0.0049 - rpn_bbox_loss: 0.1348 - mrcnn_class_loss: 0.0223 - mrcnn_bbox_loss: 0.0718 - mrcnn_mask_loss: 0.0998 - val_loss: 0.4488 - val_rpn_class_loss: 0.0041 - val_rpn_bbox_loss: 0.1830 - val_mrcnn_class_loss: 0.0298 - val_mrcnn_bbox_loss: 0.1147 - val_mrcnn_mask_loss: 0.1173\n",
            "Epoch 18/30\n",
            "100/100 [==============================] - 99s 986ms/step - loss: 0.3090 - rpn_class_loss: 0.0039 - rpn_bbox_loss: 0.1210 - mrcnn_class_loss: 0.0187 - mrcnn_bbox_loss: 0.0665 - mrcnn_mask_loss: 0.0990 - val_loss: 0.4382 - val_rpn_class_loss: 0.0047 - val_rpn_bbox_loss: 0.1783 - val_mrcnn_class_loss: 0.0226 - val_mrcnn_bbox_loss: 0.1033 - val_mrcnn_mask_loss: 0.1293\n",
            "Epoch 19/30\n",
            "100/100 [==============================] - 99s 987ms/step - loss: 0.3625 - rpn_class_loss: 0.0047 - rpn_bbox_loss: 0.1471 - mrcnn_class_loss: 0.0215 - mrcnn_bbox_loss: 0.0826 - mrcnn_mask_loss: 0.1066 - val_loss: 0.4304 - val_rpn_class_loss: 0.0057 - val_rpn_bbox_loss: 0.1491 - val_mrcnn_class_loss: 0.0338 - val_mrcnn_bbox_loss: 0.1160 - val_mrcnn_mask_loss: 0.1257\n",
            "Epoch 20/30\n",
            "100/100 [==============================] - 99s 989ms/step - loss: 0.3639 - rpn_class_loss: 0.0044 - rpn_bbox_loss: 0.1439 - mrcnn_class_loss: 0.0229 - mrcnn_bbox_loss: 0.0758 - mrcnn_mask_loss: 0.1171 - val_loss: 0.3844 - val_rpn_class_loss: 0.0026 - val_rpn_bbox_loss: 0.1588 - val_mrcnn_class_loss: 0.0140 - val_mrcnn_bbox_loss: 0.0918 - val_mrcnn_mask_loss: 0.1172\n",
            "Epoch 21/30\n",
            "100/100 [==============================] - 99s 991ms/step - loss: 0.3531 - rpn_class_loss: 0.0059 - rpn_bbox_loss: 0.1568 - mrcnn_class_loss: 0.0167 - mrcnn_bbox_loss: 0.0728 - mrcnn_mask_loss: 0.1010 - val_loss: 0.3966 - val_rpn_class_loss: 0.0050 - val_rpn_bbox_loss: 0.1439 - val_mrcnn_class_loss: 0.0247 - val_mrcnn_bbox_loss: 0.1114 - val_mrcnn_mask_loss: 0.1117\n",
            "Epoch 22/30\n",
            "100/100 [==============================] - 99s 992ms/step - loss: 0.4878 - rpn_class_loss: 0.0060 - rpn_bbox_loss: 0.2025 - mrcnn_class_loss: 0.0337 - mrcnn_bbox_loss: 0.1241 - mrcnn_mask_loss: 0.1215 - val_loss: 0.4718 - val_rpn_class_loss: 0.0057 - val_rpn_bbox_loss: 0.2412 - val_mrcnn_class_loss: 0.0175 - val_mrcnn_bbox_loss: 0.1054 - val_mrcnn_mask_loss: 0.1020\n",
            "Epoch 23/30\n",
            "100/100 [==============================] - 99s 991ms/step - loss: 0.4369 - rpn_class_loss: 0.0052 - rpn_bbox_loss: 0.2021 - mrcnn_class_loss: 0.0172 - mrcnn_bbox_loss: 0.0973 - mrcnn_mask_loss: 0.1151 - val_loss: 0.5047 - val_rpn_class_loss: 0.0045 - val_rpn_bbox_loss: 0.2488 - val_mrcnn_class_loss: 0.0237 - val_mrcnn_bbox_loss: 0.1135 - val_mrcnn_mask_loss: 0.1142\n",
            "Epoch 24/30\n",
            "100/100 [==============================] - 99s 987ms/step - loss: 0.4373 - rpn_class_loss: 0.0056 - rpn_bbox_loss: 0.1691 - mrcnn_class_loss: 0.0239 - mrcnn_bbox_loss: 0.1321 - mrcnn_mask_loss: 0.1066 - val_loss: 0.5924 - val_rpn_class_loss: 0.0068 - val_rpn_bbox_loss: 0.3304 - val_mrcnn_class_loss: 0.0177 - val_mrcnn_bbox_loss: 0.1258 - val_mrcnn_mask_loss: 0.1118\n",
            "Epoch 25/30\n",
            "100/100 [==============================] - 100s 1s/step - loss: 0.3539 - rpn_class_loss: 0.0042 - rpn_bbox_loss: 0.1451 - mrcnn_class_loss: 0.0173 - mrcnn_bbox_loss: 0.0880 - mrcnn_mask_loss: 0.0994 - val_loss: 0.4268 - val_rpn_class_loss: 0.0046 - val_rpn_bbox_loss: 0.1731 - val_mrcnn_class_loss: 0.0216 - val_mrcnn_bbox_loss: 0.1092 - val_mrcnn_mask_loss: 0.1183\n",
            "Epoch 26/30\n",
            "100/100 [==============================] - 98s 984ms/step - loss: 0.3142 - rpn_class_loss: 0.0038 - rpn_bbox_loss: 0.1247 - mrcnn_class_loss: 0.0153 - mrcnn_bbox_loss: 0.0676 - mrcnn_mask_loss: 0.1027 - val_loss: 0.4674 - val_rpn_class_loss: 0.0048 - val_rpn_bbox_loss: 0.2114 - val_mrcnn_class_loss: 0.0217 - val_mrcnn_bbox_loss: 0.1126 - val_mrcnn_mask_loss: 0.1169\n",
            "Epoch 27/30\n",
            "100/100 [==============================] - 99s 989ms/step - loss: 0.3167 - rpn_class_loss: 0.0047 - rpn_bbox_loss: 0.1205 - mrcnn_class_loss: 0.0211 - mrcnn_bbox_loss: 0.0765 - mrcnn_mask_loss: 0.0939 - val_loss: 0.4682 - val_rpn_class_loss: 0.0046 - val_rpn_bbox_loss: 0.2265 - val_mrcnn_class_loss: 0.0188 - val_mrcnn_bbox_loss: 0.1084 - val_mrcnn_mask_loss: 0.1099\n",
            "Epoch 28/30\n",
            "100/100 [==============================] - 100s 999ms/step - loss: 0.3945 - rpn_class_loss: 0.0037 - rpn_bbox_loss: 0.1898 - mrcnn_class_loss: 0.0206 - mrcnn_bbox_loss: 0.0796 - mrcnn_mask_loss: 0.1007 - val_loss: 0.4440 - val_rpn_class_loss: 0.0060 - val_rpn_bbox_loss: 0.2261 - val_mrcnn_class_loss: 0.0160 - val_mrcnn_bbox_loss: 0.1016 - val_mrcnn_mask_loss: 0.0943\n",
            "Epoch 29/30\n",
            "100/100 [==============================] - 98s 980ms/step - loss: 0.4030 - rpn_class_loss: 0.0048 - rpn_bbox_loss: 0.1853 - mrcnn_class_loss: 0.0195 - mrcnn_bbox_loss: 0.0794 - mrcnn_mask_loss: 0.1139 - val_loss: 0.4102 - val_rpn_class_loss: 0.0043 - val_rpn_bbox_loss: 0.1418 - val_mrcnn_class_loss: 0.0261 - val_mrcnn_bbox_loss: 0.1072 - val_mrcnn_mask_loss: 0.1307\n",
            "Epoch 30/30\n",
            "100/100 [==============================] - 98s 985ms/step - loss: 0.3876 - rpn_class_loss: 0.0036 - rpn_bbox_loss: 0.1706 - mrcnn_class_loss: 0.0162 - mrcnn_bbox_loss: 0.0986 - mrcnn_mask_loss: 0.0986 - val_loss: 0.4221 - val_rpn_class_loss: 0.0061 - val_rpn_bbox_loss: 0.1975 - val_mrcnn_class_loss: 0.0194 - val_mrcnn_bbox_loss: 0.1033 - val_mrcnn_mask_loss: 0.0958\n",
            "yo\n",
            "y\n",
            "yes\n",
            "Error in atexit._run_exitfuncs:\n",
            "Error in atexit._run_exitfuncs:\n",
            "Traceback (most recent call last):\n",
            "  File \"/usr/lib/python3.6/multiprocessing/util.py\", line 262, in _run_finalizers\n",
            "    finalizer()\n",
            "  File \"/usr/lib/python3.6/multiprocessing/util.py\", line 186, in __call__\n",
            "    res = self._callback(*self._args, **self._kwargs)\n",
            "  File \"/usr/lib/python3.6/multiprocessing/pool.py\", line 593, in _terminate_pool\n",
            "    task_handler.join()\n",
            "  File \"/usr/lib/python3.6/threading.py\", line 1056, in join\n",
            "    self._wait_for_tstate_lock()\n",
            "  File \"/usr/lib/python3.6/threading.py\", line 1072, in _wait_for_tstate_lock\n",
            "    elif lock.acquire(block, timeout):\n",
            "KeyboardInterrupt\n"
          ],
          "name": "stdout"
        }
      ]
    },
    {
      "cell_type": "markdown",
      "metadata": {
        "id": "5ErH68FNAwJF",
        "colab_type": "text"
      },
      "source": [
        "The last `auto_xxxxxx_yy.h5` file is the trained model weights after `yy` epochs. Save these weights in your Google Drive to use for your overlaying and evaluating the dataset. "
      ]
    },
    {
      "cell_type": "code",
      "metadata": {
        "id": "6BFnInz9Bajw",
        "colab_type": "code",
        "colab": {}
      },
      "source": [
        "!cp /content/Mask-RCNN/logs/auto20191110T1347/mask_rcnn_balloon_0030.h5 /content/drive/My\\ Drive/SLAM"
      ],
      "execution_count": 0,
      "outputs": []
    },
    {
      "cell_type": "markdown",
      "metadata": {
        "id": "sFx8gK74BqbU",
        "colab_type": "text"
      },
      "source": [
        "The trained weights are now saved in your Google Drive. Download it from `DRIVE_ROOT/SLAM`"
      ]
    },
    {
      "cell_type": "markdown",
      "metadata": {
        "id": "B7uutjCc_nPM",
        "colab_type": "text"
      },
      "source": [
        "## Visualize results with Tensorboard\n",
        "Load tensorboard with *magic* command"
      ]
    },
    {
      "cell_type": "code",
      "metadata": {
        "id": "lAZUEiPpynvX",
        "colab_type": "code",
        "colab": {}
      },
      "source": [
        "%load_ext tensorboard"
      ],
      "execution_count": 0,
      "outputs": []
    },
    {
      "cell_type": "markdown",
      "metadata": {
        "id": "TcR-CHMkAiBA",
        "colab_type": "text"
      },
      "source": [
        "Logs are stored in `ROOT_DIR/logs` for every epoch. Visualize the training with:   \n",
        "`%tensorboard --logdir <path/to/logs>`"
      ]
    },
    {
      "cell_type": "code",
      "metadata": {
        "id": "-ZUHfBJhxdtF",
        "colab_type": "code",
        "outputId": "1c6cae5a-f553-4f8b-9a3a-e37c5023a242",
        "colab": {
          "base_uri": "https://localhost:8080/",
          "height": 50
        }
      },
      "source": [
        "%tensorboard --logdir /content/Mask-RCNN/logs"
      ],
      "execution_count": 0,
      "outputs": [
        {
          "output_type": "stream",
          "text": [
            "TensorBoard 1.15.0 at http://d09f8cb42737:6006/ (Press CTRL+C to quit)\n",
            "^C\n"
          ],
          "name": "stdout"
        }
      ]
    }
  ]
}